{
  "nbformat": 4,
  "nbformat_minor": 0,
  "metadata": {
    "kernelspec": {
      "display_name": "Python 3",
      "language": "python",
      "name": "python3"
    },
    "language_info": {
      "codemirror_mode": {
        "name": "ipython",
        "version": 3
      },
      "file_extension": ".py",
      "mimetype": "text/x-python",
      "name": "python",
      "nbconvert_exporter": "python",
      "pygments_lexer": "ipython3",
      "version": "3.7.2"
    },
    "colab": {
      "name": "Assignment2",
      "provenance": [],
      "collapsed_sections": []
    }
  },
  "cells": [
    {
      "cell_type": "markdown",
      "metadata": {
        "id": "VtLkEYrMHJiL"
      },
      "source": [
        "<h1>CS152 Assignment 2: The 8-puzzle</h1>\n",
        "\n",
        "<h1> Sadid Bin Hasan [ CS 152 ] </h>\n"
      ]
    },
    {
      "cell_type": "markdown",
      "metadata": {
        "id": "j0ZLfugmHJiO"
      },
      "source": [
        "---"
      ]
    },
    {
      "cell_type": "markdown",
      "metadata": {
        "deletable": false,
        "editable": false,
        "nbgrader": {
          "cell_type": "markdown",
          "checksum": "3582513581b2e5d1806ee2b1117ac019",
          "grade": false,
          "grade_id": "5bb4ce",
          "locked": true,
          "schema_version": 3,
          "solution": false
        },
        "id": "10Y2WL6wHJiP"
      },
      "source": [
        "<h1>\n",
        "Question 1    \n",
        "</h1>\n",
        "Define your <code>PuzzleNode</code> class below.  Ensure that you include all attributes that you need to implement an A* search.  If you wish, you can even include member functions, such as a function to generate successor states.  Alternatively, you can code up this functionality later in the <code>solvePuzzle</code> function."
      ]
    },
    {
      "cell_type": "code",
      "metadata": {
        "deletable": false,
        "nbgrader": {
          "cell_type": "code",
          "checksum": "4326143183f9b58edcedbc64aed31100",
          "grade": false,
          "grade_id": "b5da05",
          "locked": false,
          "schema_version": 3,
          "solution": true,
          "task": false
        },
        "id": "Typ6qKm-HJiP"
      },
      "source": [
        "#Importing Necessary Libraries\n",
        "import numpy as np\n",
        "\n",
        "#Class PuzzleNode:\n",
        "class PuzzleNode:\n",
        "    \"\"\"\n",
        "    Class PuzzleNode: Provides a structure for performing A* search for the n^2-1 puzzle\n",
        "    \"\"\"\n",
        "    def __init__(self, puzzle_state, PC_g = 0, PC_f = 0, parent = None):\n",
        "\n",
        "        self.PC_g = PC_g    # path cost (PC) for g \n",
        "        self.PC_f = PC_f    # A* algorithm gives us f(x)= g(x) + h(x) ; inputting the f(x)\n",
        "        self.parent = parent  # getting the node parent for solving\n",
        "        self.puzzle_state = puzzle_state    # we use np_array to describe the puzzle\n",
        "\n",
        "        self.pruned = False   # considerations made for each puzzle Node (to explore or not to explore)\n",
        "        self.distance = len(puzzle_state)   \n",
        "\n",
        "    def __str__(self):\n",
        "        \"\"\"\n",
        "        For nodes in the Puzzle, obtain the (n^2-1) Puzzle_state\n",
        "        \"\"\"\n",
        "        return('\\n'.join([' '.join(['{}'.format(position, str(self.distance)) \n",
        "                for position in array_line]) for array_line in self.puzzle_state]))\n",
        "        # using the Python Format specifier, we are taking each entry of our Puzzle\n",
        "        # and using multiple For loops to represent puzzle digits in our respective grid\n",
        "\n",
        "    def __lt__(self, another_node):\n",
        "        \"\"\"\n",
        "        Measuring the f(x) value for different nodes during A* search\n",
        "        \"\"\"\n",
        "        return self.PC_f < another_node.PC_f\n",
        "\n",
        "\n",
        "# ATTRIBUTION AND REFERENCES:\n",
        "# PYTHON FORMAT SPECIFIER FROM STACKOVERFLOW: CAMPBELL, BRIAN. (2015) PYTHON FORMAT SPECIFIER. RETRIEVED FROM: https://stackoverflow.com/questions/29044940/how-can-you-use-a-variable-name-inside-a-python-format-specifier\n"
      ],
      "execution_count": 1,
      "outputs": []
    },
    {
      "cell_type": "code",
      "metadata": {
        "id": "Bt4RuEoybetq",
        "colab": {
          "base_uri": "https://localhost:8080/",
          "height": 0
        },
        "outputId": "29069027-76d8-4e91-e93f-63104fcc8036"
      },
      "source": [
        "# using the starting state from the prompt\n",
        "checking_start_state = [[7,2,4], [5,0,6], [8,3,1]]\n",
        "\n",
        "#using the Puzzlenode on our starting state\n",
        "start_state = PuzzleNode(checking_start_state)\n",
        "\n",
        "#checking our results\n",
        "print(start_state)\n"
      ],
      "execution_count": 2,
      "outputs": [
        {
          "output_type": "stream",
          "name": "stdout",
          "text": [
            "7 2 4\n",
            "5 0 6\n",
            "8 3 1\n"
          ]
        }
      ]
    },
    {
      "cell_type": "markdown",
      "metadata": {
        "deletable": false,
        "editable": false,
        "nbgrader": {
          "cell_type": "markdown",
          "checksum": "f523db3048f85be39ef3dc740b53fdba",
          "grade": false,
          "grade_id": "859d2c",
          "locked": true,
          "schema_version": 3,
          "solution": false
        },
        "id": "zrqcQim4HJiQ"
      },
      "source": [
        "<h1>\n",
        "Question 2    \n",
        "</h1>\n",
        "Define your heuristic functions using the templates below.  Ensure that you extend the <code>heuristics</code> list to include all the heuristic functions you implement.  Note that state will be given as a list of lists, so ensure your function accepts this format.  You may use packages like numpy if you wish within the functions themselves."
      ]
    },
    {
      "cell_type": "code",
      "metadata": {
        "deletable": false,
        "nbgrader": {
          "cell_type": "code",
          "checksum": "686c6cabd6955171ad70aa6fd37d31a9",
          "grade": false,
          "grade_id": "3fb850",
          "locked": false,
          "schema_version": 3,
          "solution": true,
          "task": false
        },
        "id": "mgIrVOWVHJiR"
      },
      "source": [
        "# Misplaced tiles heuristic\n",
        "\n",
        "def h1(puzzle_state):\n",
        "    \"\"\"\n",
        "    This function returns the number of misplaced tiles, given the board state\n",
        "    WE HAVE: \n",
        "    - the board state as a list of lists\n",
        "    - the number of misplaced tiles\n",
        "    \"\"\"    \n",
        "    distance = len(puzzle_state)\n",
        "    # using numpy library we use the reshape to format the PUZZLE_array without data alteration \n",
        "    puzzle_state = np.array(puzzle_state).reshape(distance,distance)    \n",
        "    # for each of the wrong locations of our digits, we identify them\n",
        "    wrong_location = [location != line for line, location in enumerate(puzzle_state.flatten())]\n",
        "    # then we calculate the total number of incorrectly positioned digits\n",
        "    total = sum(wrong_location) - 1\n",
        "    return(total)\n",
        "\n",
        "# Reference: Numpy library of Python: https://numpy.org/doc/stable/reference/generated/numpy.reshape.html\n",
        "\n",
        "# Manhattan distance heuristic\n",
        "def h2(puzzle_state):\n",
        "    \"\"\"\n",
        "    This function returns the Manhattan distance from the solved state, given the board state\n",
        "    Input:\n",
        "        -state: the board state as a list of lists\n",
        "    Output:\n",
        "        -h: the Manhattan distance from the solved configuration\n",
        "    \"\"\"\n",
        "    digits_in_grid = (len(puzzle_state) ** 2)\n",
        "    distance = len(puzzle_state)\n",
        "    # using numpy library we use the reshape to format the PUZZLE_array without data alteration    \n",
        "    puzzle_state = np.array(puzzle_state).reshape(distance, distance)\n",
        "    # for each of the wrong locations of our digits, we identify them  \n",
        "    existing_puzzle_state = list(puzzle_state.flatten())  \n",
        "    # using np_flatten, we are taking the array into 1 Dimension for better interpretation\n",
        "    final_puzzle_state = list(range(distance**2))\n",
        "    # re creating the grid for calculating the manhattan distance\n",
        "        \n",
        "    calculate_M_D = [abs(coordinate_1 % distance - coordinate_2 % distance) + abs(coordinate_1//distance - coordinate_2//distance) for\n",
        "                      coordinate_1, coordinate_2 in ((existing_puzzle_state.index(position), final_puzzle_state.index(position)) for\n",
        "                      position in range(1, digits_in_grid))]\n",
        "    #calculating the manhattan distance\n",
        "\n",
        "    total = sum(calculate_M_D)\n",
        "    # calculating the total manhattan distance for our respective puzzle situation\n",
        "    return(total)\n",
        "    #obtaining the manhattan distance.\n",
        "\n",
        "# Extra heuristic for the extension.  If implemented, modify the function below\n",
        "    # Not using a third heuristic for now\n",
        "\n",
        "def h3(puzzle_state):\n",
        "    \"\"\"\n",
        "    This function returns a heuristic that dominates the Manhattan distance, given the board state\n",
        "    Input:\n",
        "        -state: the board state as a list of lists\n",
        "    Output:\n",
        "        -h: the Heuristic distance of the state from its solved configuration\n",
        "    \"\"\"\n",
        "    return 0\n",
        "\n",
        "heuristics = [h1, h2, h3]\n"
      ],
      "execution_count": 3,
      "outputs": []
    },
    {
      "cell_type": "markdown",
      "metadata": {
        "id": "TmqkVgb-DxxC"
      },
      "source": [
        "# EXTENSION ATTEMPT"
      ]
    },
    {
      "cell_type": "markdown",
      "metadata": {
        "id": "kEt3z6x3SdiU"
      },
      "source": [
        "From GeeksforGeeks (2021), I learned about the concept of inversions and polarity that can be taken into consideration while determining whether a puzzle is solvable or not. When Inversion number is odd in the beginning of the puzzle, then it will be odd throughout the puzzle, and vice versa for \"Even\" cases. When we complete our puzzle, our inversion number will become 0. But to solve the puzzle, we need an inversion, which is even.\n",
        "\n",
        "Rules that I discovered: When we make a movement along a row, the inversion remains the same. But when we make a movement along a column, we can increase or decrease inversion by 2, or it remains the same. (GeeksForGeeks, 2021).\n",
        "\n",
        "\n",
        "Following these rules, and taking inspiration the GeeksForGeeks resource and the Sliding Puzzle blog, I have constructed my following extension code attempt.\n",
        "\n",
        "\n",
        "ATTRIBUTION AND REFERENCES:\n",
        "LEARNED ABOUT PROBLEM SOLVING FOR PUZZLES IN GEEKS FOR GEEKS\n",
        "HERE: https://www.geeksforgeeks.org/check-instance-8-puzzle-solvable/\n",
        "\n",
        "TOOK FURTHER INSPIRATION FOR THE CODING SOLUTION FROM SLIDING PUZZLE BLOG\n",
        "HERE: https://bit.ly/3bjwiBj"
      ]
    },
    {
      "cell_type": "code",
      "metadata": {
        "id": "Brr9GKGnbMUh"
      },
      "source": [
        "import numpy as np\n",
        "#importing necessary libraries\n",
        "\n",
        "def checking_puzzle_solution(puzzle_state):\n",
        "    \"\"\"\n",
        "    We will be trying to determine the inversion for any 8 Puzzle, and determine whether that\n",
        "    can be solved.\n",
        "    \n",
        "    When we make a movement along a row, the inversion remains the same. But when we make a movement along a column, \n",
        "    we can increase or decrease inversion by 2, or it remains the same. (GeeksForGeeks, 2021).\n",
        "    \n",
        "    ATTRIBUTION AND REFERENCES:\n",
        "    LEARNED ABOUT PROBLEM SOLVING FOR PUZZLES IN GEEKS FOR GEEKS\n",
        "    HERE: https://www.geeksforgeeks.org/check-instance-8-puzzle-solvable/\n",
        "\n",
        "    TOOK FURTHER INSPIRATION FOR THE CODING SOLUTION FROM SLIDING PUZZLE BLOG\n",
        "    HERE: https://bit.ly/3bjwiBj\n",
        "\n",
        "    Following these rules, and taking inspiration the GeeksForGeeks resource and the Sliding Puzzle blog, \n",
        "    I have constructed my following extension code attempt.\n",
        "    \"\"\"\n",
        "    current_puzz_inversion = 0\n",
        "    # setting initial inversion to zero\n",
        "    distance = len(puzzle_state)\n",
        "    # formatting the puzzle for checking whether we can solve it\n",
        "    digits_in_grid = (len(puzzle_state) ** 2)\n",
        "    # using numpy library we use the reshape to format the PUZZLE_array without data alteration\n",
        "    puzzle_state = np.array(puzzle_state).reshape(distance, distance) \n",
        "    #identifying the position of the empty space in the puzzle with numpy library\n",
        "    empty_space_position = tuple(*np.argwhere(puzzle_state == 0))\n",
        "    # using np_flatten, we are taking the array into 1 Dimension for better interpretation\n",
        "    all_the_pz_digits = list(puzzle_state.flatten())  \n",
        "\n",
        "    # checking all the pieces in the puzzle\n",
        "    for digit in range(digits_in_grid - 1):\n",
        "      #checking the other successive pieces in the puzzle\n",
        "        for checking in range(digit+1, digits_in_grid):\n",
        "          #comparing the positions of the puzzle and measuring the inversion for the puzzle_state\n",
        "            if all_the_pz_digits[checking] and all_the_pz_digits[digit] and all_the_pz_digits[digit] > all_the_pz_digits[checking]:\n",
        "                current_puzz_inversion += 1\n",
        "                #increasing puzzle inversion number if conditions satisfy\n",
        "\n",
        "    # Case study Implementations for our puzzle \n",
        "    # we are using modulus of 2 to check the even or odd for our values\n",
        "    if (distance % 2 != 0) and (current_puzz_inversion % 2 == 0):\n",
        "      # checking divisibility by two for puzzle size\n",
        "        return(True)\n",
        "    elif (distance % 2 == 0) and (empty_space_position[0] % 2 != 0) and (current_puzz_inversion % 2 != 0):\n",
        "      # checking size, empty space position and inversion to determine whether we can solve the puzzle\n",
        "        return(True)\n",
        "    elif (distance % 2 == 0) and (empty_space_position[0] % 2 == 0) and (current_puzz_inversion % 2 == 0):\n",
        "      # checking size, empty space position and inversion to determine whether we can solve the puzzle\n",
        "        return(True)\n",
        "    else:\n",
        "        return(False)"
      ],
      "execution_count": 4,
      "outputs": []
    },
    {
      "cell_type": "code",
      "metadata": {
        "colab": {
          "base_uri": "https://localhost:8080/",
          "height": 0
        },
        "id": "agOz9X0cIMVl",
        "outputId": "d5c928b7-6f16-4cf4-e52d-6c2d3c2a7eeb"
      },
      "source": [
        "check_prompt_start = [[7,2,4], [5,0,6], [8,3,1]]\n",
        "checking_puzzle_solution(check_prompt_start)"
      ],
      "execution_count": 5,
      "outputs": [
        {
          "output_type": "execute_result",
          "data": {
            "text/plain": [
              "True"
            ]
          },
          "metadata": {},
          "execution_count": 5
        }
      ]
    },
    {
      "cell_type": "markdown",
      "metadata": {
        "deletable": false,
        "editable": false,
        "nbgrader": {
          "cell_type": "markdown",
          "checksum": "591174c27300d0a4d4d96ee841e46810",
          "grade": false,
          "grade_id": "e224d9",
          "locked": true,
          "schema_version": 3,
          "solution": false
        },
        "id": "oQ-Rf7AUHJiS"
      },
      "source": [
        "<h1>\n",
        "Question 3    \n",
        "</h1>\n",
        "Code up your A* search using the SolvePuzzle function within the template below.  Please do not modify the function header, otherwise the automated testing will fail.  You may define other functions or import packages as needed in this cell or by adding additional cells."
      ]
    },
    {
      "cell_type": "code",
      "metadata": {
        "id": "TqdBPQJbbORB"
      },
      "source": [
        "#importing necessary libraries\n",
        "from queue import PriorityQueue\n",
        "\n",
        "def solvePuzzle(puzzle_state, heuristic = h1):\n",
        "    \"\"\"This function should solve the n**2-1 puzzle for any n > 2 (although it may take too long for n > 4)).\n",
        "    Inputs:\n",
        "        -state: The initial state of the puzzle as a list of lists\n",
        "        -heuristic: a handle to a heuristic function.  Will be one of those defined in Question 2.\n",
        "    Outputs:\n",
        "        -steps: The number of steps to optimally solve the puzzle (excluding the initial state)\n",
        "        -exp: The number of nodes expanded to reach the solution\n",
        "        -max_frontier: The maximum size of the frontier over the whole search\n",
        "        -opt_path: The optimal path as a list of list of lists.  That is, opt_path[:,:,i] should give a list of lists\n",
        "                    that represents the state of the board at the ith step of the solution.\n",
        "        -err: An error code.  If state is not of the appropriate size and dimension, return -1.  For the extention task,\n",
        "          if the state is not solvable, then return -2\n",
        "    \"\"\"\n",
        "\n",
        "# checking the entry states of our prompt\n",
        "    distance = len(puzzle_state)\n",
        "    formatted_puzzle_end = list(range(distance**2))\n",
        "    # finding the size and dimesion in which our solution will be in\n",
        "    if not checking_puzzle_solution(puzzle_state):\n",
        "      # checking whether or not there is a solution here\n",
        "        print(\"WE CAN NOT SOLVE THE GIVEN PUZZLE\")\n",
        "        return(0, 0, 0, None, -2)\n",
        "    \n",
        "    try:\n",
        "       # formatting the entry for convenience of interpretation using the numpy reshape function\n",
        "        puzzle_state = np.array(puzzle_state).reshape(distance, distance)\n",
        "    except:\n",
        "        print(\"CAN NOT SOLVE: WE CAN NOT FORMAT THE ENTRY YOU SUBMITTED\")\n",
        "      # checking out for invalid entry types\n",
        "        return(0, 0, 0, None, -1) \n",
        "    #checing the size of the puzzle and comparing that to our given puzzle to see whether they match in dimension\n",
        "    our_formatted_puzzle = puzzle_state.flatten()\n",
        "    if sorted(our_formatted_puzzle) != formatted_puzzle_end:\n",
        "      # giving out specific error messages, such that we can identify characteristics of the puzzle_state\n",
        "        print(\"CAN NOT SOLVE: THE SIZE OF YOUR ENTRY GRID AND THE ACTUAL GRID SIZE DOES NOT MATCH\")\n",
        "        return(0, 0, 0, None, -1)\n",
        "\n",
        "\n",
        "# We are going to now search for a way to complete the puzzle\n",
        "  # for the given point / digit in our puzzle, we input the charactersitics of A* search, where F = G + H\n",
        "    given_point = PuzzleNode(puzzle_state, PC_g = 0, PC_f = heuristic(puzzle_state))\n",
        "    move_price = {tuple(given_point.puzzle_state.flatten()): given_point}\n",
        "    # calculating costs for our given point helps us make the decision.\n",
        "\n",
        "    # Using the Priority queue, we evaluate our options for the given point\n",
        "    storing_the_queue = PriorityQueue()\n",
        "    storing_the_queue.put(given_point)\n",
        "\n",
        "    # based on the properties of the puzzle game, we identify ways in which a digit can move\n",
        "    correct_route = [(1,0),(0,1),(-1,0),(0,-1)]\n",
        "    build_up_calculation = 0\n",
        "    highest_value_in_stored_queue = 0\n",
        "\n",
        "    # checking our available options for movement\n",
        "    while not storing_the_queue.empty():\n",
        "        \n",
        "        # evaluating our options with highest cost and starting the evaluation process\n",
        "        if storing_the_queue.qsize() > highest_value_in_stored_queue:\n",
        "            highest_value_in_stored_queue = storing_the_queue.qsize()\n",
        "        # finding out the best route for our existing point in the puzzle\n",
        "        existing_point = storing_the_queue.get()\n",
        "        if existing_point.pruned:\n",
        "            continue\n",
        "        #checking the number of steps required to complete our solution\n",
        "        # and evaluating options based on number of steps needed\n",
        "        if list(existing_point.puzzle_state.flatten()) == formatted_puzzle_end:\n",
        "            print(\"After \",build_up_calculation,\" moves, we have solved the puzzle\")\n",
        "            break\n",
        "        #empty space in the puzzle, gives us the flexibility to move around\n",
        "        empty_space = tuple(*np.argwhere(existing_point.puzzle_state == 0))\n",
        "        # as we take steps towards the solution, we are measuring the number of future steps required\n",
        "        # if we take the available options to us               \n",
        "        available_options = [tuple([sum(scan) for scan in zip(empty_space, route)] )\n",
        "                       for route in correct_route] \n",
        "        # among all the possible ways we can solve this problem\n",
        "        sustainable_route = [scan for scan in available_options if\n",
        "                       (0 <= scan[0] < distance and 0 <= scan[1] < distance)]\n",
        "        # we are trying to find the most sustainable solution                \n",
        "        for best_case in sustainable_route:\n",
        "            PC_g = existing_point.PC_g + 1    \n",
        "\n",
        "            # we start following the available options\n",
        "            observe_case = np.copy(existing_point.puzzle_state)\n",
        "            empty_digit = empty_space\n",
        "            # we observe the changes after switching our digits with empty space\n",
        "            observe_case[empty_digit], observe_case[best_case] = observe_case[best_case], observe_case[empty_digit]        \n",
        "    \n",
        "            # after travelling a certain route, we take note of our findings\n",
        "            if tuple(observe_case.flatten()) in move_price:\n",
        "                if move_price[tuple(observe_case.flatten())].PC_g > PC_g:\n",
        "                    move_price[tuple(observe_case.flatten())].pruned = True\n",
        "                    # then we trace the next best move for solving the puzzle\n",
        "                else:\n",
        "                    continue \n",
        "\n",
        "            # we evaluate which heuristic works best, based on their prices\n",
        "            price_for_h = heuristic(observe_case)\n",
        "            # we find out the available option after observation\n",
        "            available_op = PuzzleNode(observe_case, PC_g = PC_g,\n",
        "                                   PC_f = (PC_g + price_for_h),  parent=existing_point)\n",
        "            # we place our option in the queue\n",
        "            storing_the_queue.put(available_op)\n",
        "            # we track the price of our case\n",
        "            move_price[tuple(observe_case.flatten())] = available_op \n",
        "        # finally we keep track of the movements we have made\n",
        "        build_up_calculation = build_up_calculation + 1\n",
        "\n",
        "# Now, we do not only aim to solve the puzzle\n",
        "# We aim to solve the puzzle in the best possible way    \n",
        "    best_choices_available = []    \n",
        "    reaching_marker = existing_point\n",
        "    # trying to find the best way to go ahead\n",
        "\n",
        "    # comparing the options available to us and placing them among the choices\n",
        "    while reaching_marker:\n",
        "      best_choices_available.append(reaching_marker)\n",
        "      reaching_marker = reaching_marker.parent\n",
        "      #identifying parent nodes and tracing the best way ahead\n",
        "    \n",
        "    best_choice = []\n",
        "    # after finding the top choices, we now want to make the absolute best choice\n",
        "    \n",
        "    # we look at all the options from a different angle\n",
        "    for iteration, choice in reversed(list(enumerate(best_choices_available))): \n",
        "        opt = len(best_choices_available) - 1 - iteration\n",
        "        best_choice.append(choice.puzzle_state.tolist())\n",
        "        # and we cross verify, whether our solution is actually the best one or not\n",
        "    \n",
        "    #finally, we get the best solution, and we also identify number of total steps needed to solve the puzzle\n",
        "    return (len(best_choices_available)-1, build_up_calculation, \n",
        "            highest_value_in_stored_queue, best_choice, 0)"
      ],
      "execution_count": 6,
      "outputs": []
    },
    {
      "cell_type": "markdown",
      "metadata": {
        "deletable": false,
        "editable": false,
        "nbgrader": {
          "cell_type": "markdown",
          "checksum": "93712bce8426499023ace13735ea998d",
          "grade": false,
          "grade_id": "cell-3fc6e687e03655a1",
          "locked": true,
          "schema_version": 3,
          "solution": false,
          "task": false
        },
        "id": "aBkQN3IWHJiT"
      },
      "source": [
        "<h1>Extension Questions</h1>\n",
        "\n",
        "The extensions can be implemented by modifying the code from Q2-3 above appropriately.\n",
        "\n",
        "1. <b>Initial state solvability:</b>  Modify your SolvePuzzle function code in Q3 to return -2 if an initial state is not solvable to the goal state.\n",
        "2. <b>Extra heuristic function:</b> Add another heuristic function (e.g. pattern database) that dominates the misplaced tiles and Manhattan distance heuristics to your Q2 code.\n",
        "3. <b>Memoization:</b>  Modify your heuristic function definitions in Q2 by using a Python decorator to speed up heuristic function evaluation\n",
        "\n",
        "There are test cells provided for extension questions 1 and 2."
      ]
    },
    {
      "cell_type": "markdown",
      "metadata": {
        "deletable": false,
        "editable": false,
        "nbgrader": {
          "cell_type": "markdown",
          "checksum": "c89ea5c4d80cc73d321b4d15a043e8b7",
          "grade": false,
          "grade_id": "fb9ccd",
          "locked": true,
          "schema_version": 3,
          "solution": false
        },
        "id": "gwKgIiGMHJiU"
      },
      "source": [
        "<h1>Basic Functionality Tests</h1>\n",
        "The cells below contain tests to verify that your code is working properly to be classified as basically functional.  Please note that a grade of <b>3</b> on #aicoding and #search as applicable for each test requires the test to be successfully passed.  <b>If you want to demonstrate some other aspect of your code, then feel free to add additional cells with test code and document what they do.<b>"
      ]
    },
    {
      "cell_type": "code",
      "metadata": {
        "deletable": false,
        "editable": false,
        "nbgrader": {
          "cell_type": "code",
          "checksum": "f8d927b41dc95f7b76d81ed7f6cd13ec",
          "grade": true,
          "grade_id": "8fbc24",
          "locked": true,
          "points": 1,
          "schema_version": 3,
          "solution": false
        },
        "id": "o337cz0DHJiU",
        "colab": {
          "base_uri": "https://localhost:8080/",
          "height": 0
        },
        "outputId": "ac4c3829-0f7a-476b-b9be-8f8b586396d1"
      },
      "source": [
        "## Test for state not correctly defined\n",
        "\n",
        "incorrect_state = [[0,1,2],[2,3,4],[5,6,7]]\n",
        "_,_,_,_,err = solvePuzzle(incorrect_state, lambda state: 0)\n",
        "assert(err == -1)"
      ],
      "execution_count": 7,
      "outputs": [
        {
          "output_type": "stream",
          "name": "stdout",
          "text": [
            "CAN NOT SOLVE: THE SIZE OF YOUR ENTRY GRID AND THE ACTUAL GRID SIZE DOES NOT MATCH\n"
          ]
        }
      ]
    },
    {
      "cell_type": "code",
      "metadata": {
        "deletable": false,
        "editable": false,
        "nbgrader": {
          "cell_type": "code",
          "checksum": "005a7a99916dafeb7180172c66365597",
          "grade": true,
          "grade_id": "cell-5738a2124877e52e",
          "locked": true,
          "points": 2,
          "schema_version": 3,
          "solution": false,
          "task": false
        },
        "id": "sWwOZ6cAHJiU"
      },
      "source": [
        "## Heuristic function tests for misplaced tiles and manhattan distance\n",
        "\n",
        "# Define the working initial states\n",
        "working_initial_states_8_puzzle = ([[2,3,7],[1,8,0],[6,5,4]], [[7,0,8],[4,6,1],[5,3,2]], [[5,7,6],[2,4,3],[8,1,0]])\n",
        "\n",
        "# Test the values returned by the heuristic functions\n",
        "h_mt_vals = [7,8,7]\n",
        "h_man_vals = [15,17,18]\n",
        "\n",
        "for i in range(0,3):\n",
        "    h_mt = heuristics[0](working_initial_states_8_puzzle[i])\n",
        "    h_man = heuristics[1](working_initial_states_8_puzzle[i])\n",
        "    assert(h_mt == h_mt_vals[i])\n",
        "    assert(h_man == h_man_vals[i])\n"
      ],
      "execution_count": 8,
      "outputs": []
    },
    {
      "cell_type": "code",
      "metadata": {
        "deletable": false,
        "editable": false,
        "nbgrader": {
          "cell_type": "code",
          "checksum": "293094319e63d67c5f6d94cd7aee0c02",
          "grade": true,
          "grade_id": "cell-99c07d9541559b52",
          "locked": true,
          "points": 4,
          "schema_version": 3,
          "solution": false,
          "task": false
        },
        "id": "XBTmPnPTHJiV"
      },
      "source": [
        "## A* Tests for 3 x 3 boards\n",
        "## This test runs A* with both heuristics and ensures that the same optimal number of steps are found\n",
        "## with each heuristic.\n",
        "\n",
        "# Optimal path to the solution for the first 3 x 3 state\n",
        "opt_path_soln = [[[2, 3, 7], [1, 8, 0], [6, 5, 4]], [[2, 3, 7], [1, 8, 4], [6, 5, 0]], \n",
        "                 [[2, 3, 7], [1, 8, 4], [6, 0, 5]], [[2, 3, 7], [1, 0, 4], [6, 8, 5]], \n",
        "                 [[2, 0, 7], [1, 3, 4], [6, 8, 5]], [[0, 2, 7], [1, 3, 4], [6, 8, 5]], \n",
        "                 [[1, 2, 7], [0, 3, 4], [6, 8, 5]], [[1, 2, 7], [3, 0, 4], [6, 8, 5]], \n",
        "                 [[1, 2, 7], [3, 4, 0], [6, 8, 5]], [[1, 2, 0], [3, 4, 7], [6, 8, 5]], \n",
        "                 [[1, 0, 2], [3, 4, 7], [6, 8, 5]], [[1, 4, 2], [3, 0, 7], [6, 8, 5]], \n",
        "                 [[1, 4, 2], [3, 7, 0], [6, 8, 5]], [[1, 4, 2], [3, 7, 5], [6, 8, 0]], \n",
        "                 [[1, 4, 2], [3, 7, 5], [6, 0, 8]], [[1, 4, 2], [3, 0, 5], [6, 7, 8]], \n",
        "                 [[1, 0, 2], [3, 4, 5], [6, 7, 8]], [[0, 1, 2], [3, 4, 5], [6, 7, 8]]]\n",
        "\n",
        "astar_steps = [17, 25, 28]\n",
        "for i in range(0,3):\n",
        "    steps_mt, expansions_mt, _, opt_path_mt, _ = solvePuzzle(working_initial_states_8_puzzle[i], heuristics[0])\n",
        "    steps_man, expansions_man, _, opt_path_man, _ = solvePuzzle(working_initial_states_8_puzzle[i], heuristics[1])\n",
        "    # Test whether the number of optimal steps is correct and the same\n",
        "    assert(steps_mt == steps_man == astar_steps[i])\n",
        "    # Test whether or not the manhattan distance dominates the misplaced tiles heuristic in every case\n",
        "    assert(expansions_man < expansions_mt)\n",
        "    # For the first state, test that the optimal path is the same\n",
        "    if i == 0:\n",
        "        assert(opt_path_mt == opt_path_soln)\n"
      ],
      "execution_count": null,
      "outputs": []
    },
    {
      "cell_type": "code",
      "metadata": {
        "deletable": false,
        "editable": false,
        "nbgrader": {
          "cell_type": "code",
          "checksum": "94ad7f950f87fcc281af1f3946c4e196",
          "grade": true,
          "grade_id": "cell-2981ba2cc7745c22",
          "locked": true,
          "points": 8,
          "schema_version": 3,
          "solution": false,
          "task": false
        },
        "id": "4Ckik4GYHJiV",
        "colab": {
          "base_uri": "https://localhost:8080/",
          "height": 0
        },
        "outputId": "fa1cfebe-1f07-44fb-f1ae-d71533ae861d"
      },
      "source": [
        "## A* Test for 4 x 4 board\n",
        "## This test runs A* with both heuristics and ensures that the same optimal number of steps are found\n",
        "## with each heuristic.\n",
        "\n",
        "working_initial_state_15_puzzle = [[1,2,6,3],[0,9,5,7],[4,13,10,11],[8,12,14,15]]\n",
        "steps_mt, expansions_mt, _, _, _ = solvePuzzle(working_initial_state_15_puzzle, heuristics[0])\n",
        "steps_man, expansions_man, _, _, _ = solvePuzzle(working_initial_state_15_puzzle, heuristics[1])\n",
        "# Test whether the number of optimal steps is correct and the same\n",
        "assert(steps_mt == steps_man == 9)\n",
        "# Test whether or not the manhattan distance dominates the misplaced tiles heuristic in every case\n",
        "assert(expansions_mt >= expansions_man)"
      ],
      "execution_count": 9,
      "outputs": [
        {
          "output_type": "stream",
          "name": "stdout",
          "text": [
            "After  10  moves, we have solved the puzzle\n",
            "After  9  moves, we have solved the puzzle\n"
          ]
        }
      ]
    },
    {
      "cell_type": "markdown",
      "metadata": {
        "deletable": false,
        "editable": false,
        "nbgrader": {
          "cell_type": "markdown",
          "checksum": "7251e4aad7b1e19b42a78e54d8e7b920",
          "grade": false,
          "grade_id": "cell-2c262efb90518641",
          "locked": true,
          "schema_version": 3,
          "solution": false,
          "task": false
        },
        "id": "1C7rU4DTHJiW"
      },
      "source": [
        "<h1>Extension Tests</h1>\n",
        "The cells below can be used to test the extension questions.  Memoization if implemented will be tested on the final submission - you can test it yourself by testing the execution time of the heuristic functions with and without it."
      ]
    },
    {
      "cell_type": "code",
      "metadata": {
        "deletable": false,
        "editable": false,
        "nbgrader": {
          "cell_type": "code",
          "checksum": "efc4b74c95e814a4fb07d2c5ed26f337",
          "grade": true,
          "grade_id": "cell-21cada9978e9a1bb",
          "locked": true,
          "points": 16,
          "schema_version": 3,
          "solution": false,
          "task": false
        },
        "id": "46BYAN5MHJiW",
        "colab": {
          "base_uri": "https://localhost:8080/",
          "height": 0
        },
        "outputId": "46fda0d9-7214-485e-8b53-33329a036d54"
      },
      "source": [
        "## Puzzle solvability test\n",
        "\n",
        "unsolvable_initial_state = [[7,5,6],[2,4,3],[8,1,0]]\n",
        "_,_,_,_,err = solvePuzzle(unsolvable_initial_state, lambda state: 0)\n",
        "assert(err == -2)"
      ],
      "execution_count": 10,
      "outputs": [
        {
          "output_type": "stream",
          "name": "stdout",
          "text": [
            "WE CAN NOT SOLVE THE GIVEN PUZZLE\n"
          ]
        }
      ]
    },
    {
      "cell_type": "code",
      "metadata": {
        "deletable": false,
        "editable": false,
        "nbgrader": {
          "cell_type": "code",
          "checksum": "9b7ebb02bcf675ab3a5157eaa1155763",
          "grade": true,
          "grade_id": "cell-8c7a414efc152379",
          "locked": true,
          "points": 32,
          "schema_version": 3,
          "solution": false,
          "task": false
        },
        "id": "hpNdKYUkHJiW"
      },
      "source": [
        "## Extra heuristic function test.  \n",
        "## This tests that for all initial conditions, the new heuristic dominates over the manhattan distance.\n",
        "\n",
        "dom = 0\n",
        "for i in range(0,3):\n",
        "    steps_new, expansions_new, _, _, _ = solvePuzzle(working_initial_states_8_puzzle[i], heuristics[2])\n",
        "    steps_man, expansions_man, _, _, _ = solvePuzzle(working_initial_states_8_puzzle[i], heuristics[1])\n",
        "    # Test whether the number of optimal steps is correct and the same\n",
        "    assert(steps_new == steps_man == astar_steps[i])\n",
        "    # Test whether or not the manhattan distance is dominated by the new heuristic in every case, by checking\n",
        "    # the number of nodes expanded\n",
        "    dom = expansions_man - expansions_new\n",
        "    assert(dom > 0)"
      ],
      "execution_count": null,
      "outputs": []
    },
    {
      "cell_type": "code",
      "metadata": {
        "deletable": false,
        "editable": false,
        "nbgrader": {
          "cell_type": "code",
          "checksum": "af551e00bc8334100b7cf901ece597a2",
          "grade": true,
          "grade_id": "cell-09f710b6aa2e3fa3",
          "locked": true,
          "points": 64,
          "schema_version": 3,
          "solution": false,
          "task": false
        },
        "id": "T8QDvsI4HJiW"
      },
      "source": [
        "## Memoization test - will be carried out after submission"
      ],
      "execution_count": null,
      "outputs": []
    }
  ]
}